{
 "cells": [
  {
   "cell_type": "code",
   "execution_count": 2,
   "metadata": {},
   "outputs": [],
   "source": [
    "import numpy as np\n",
    "import scipy.integrate as integrate\n",
    "import sympy as sp"
   ]
  },
  {
   "cell_type": "code",
   "execution_count": 3,
   "metadata": {},
   "outputs": [],
   "source": [
    "a, b, alpha, betta = 1.3, 2.2, 0, 5/6\n",
    "f = lambda x: 4*np.cos(0.5*x)*np.exp(-5/4*x)+2*np.sin(4.5*x)*np.exp(x/8)+2\n",
    "w = lambda x, i: (x-a)**(-alpha) * (b-x)**(-betta) * x**i\n",
    "k, p = 15, 3"
   ]
  },
  {
   "cell_type": "markdown",
   "metadata": {},
   "source": [
    "## СКФ\n",
    "\n",
    "<img src=\"./SK/1.png\">"
   ]
  },
  {
   "cell_type": "code",
   "execution_count": 4,
   "metadata": {},
   "outputs": [],
   "source": [
    "def nutonkotes(a, b, points):\n",
    "    \"\"\"\n",
    "    a - начало промежутка\n",
    "    b - конец промежутка\n",
    "    points - кол-во точек для разбиения промежутка [a, b]\n",
    "    \n",
    "    a < p1 < p2 < .. < pn < b\n",
    "    \"\"\"\n",
    "    uzl = np.linspace(a, b, points)# Разбиваем промежуток на кол-во(points - кол-во отреков) равных отрезков. Uzl - массив с точками\n",
    "    m = np.array([integrate.quad(w, a, b, args=(i)) for i in range(points)], dtype=np.float64) # считаем моменты\n",
    "    M = m[:, 0];\n",
    "    X = np.array([uzl**i for i in range(0, points)], dtype=np.float64); # составляем матрицу из узлов\n",
    "    A = np.linalg.solve(X, M);# рещаем систему лин. уравнений, получаем коофиценты\n",
    "    integral = np.sum([A[j]*f(uzl[j]) for j in range(points)]);# считаем инеграл, как сумму произведений соответсвующего коофицента\n",
    "    # умноженного на значение функции в соответсвующем узле\n",
    "    return integral"
   ]
  },
  {
   "cell_type": "code",
   "execution_count": 6,
   "metadata": {},
   "outputs": [
    {
     "data": {
      "text/plain": [
       "10.839919237013355"
      ]
     },
     "execution_count": 6,
     "metadata": {},
     "output_type": "execute_result"
    }
   ],
   "source": [
    "uzl = np.linspace(a, b, k) # разбиваем промежуток [a,b] на k равных частей. В массиве uzl записанны равноотстоящие точки\n",
    "integral = [nutonkotes(uzl[i], uzl[i+1], p) for i in range(k-1)] # считаем на каждом промежутке значение интеграла\n",
    "J = np.array(integral).sum(); J # суммируем все значания"
   ]
  },
  {
   "cell_type": "code",
   "execution_count": null,
   "metadata": {},
   "outputs": [],
   "source": []
  }
 ],
 "metadata": {
  "kernelspec": {
   "display_name": "Python 3",
   "language": "python",
   "name": "python3"
  },
  "language_info": {
   "codemirror_mode": {
    "name": "ipython",
    "version": 3
   },
   "file_extension": ".py",
   "mimetype": "text/x-python",
   "name": "python",
   "nbconvert_exporter": "python",
   "pygments_lexer": "ipython3",
   "version": "3.7.2"
  }
 },
 "nbformat": 4,
 "nbformat_minor": 2
}
